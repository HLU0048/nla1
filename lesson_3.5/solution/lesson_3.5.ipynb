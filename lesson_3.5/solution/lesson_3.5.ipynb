{
 "cells": [
  {
   "cell_type": "markdown",
   "metadata": {},
   "source": [
    "# Cvičení 3.5\n",
    "\n",
    "Tématem tohoto cvičení jsou přímé metody řešení soustav lineárních rovnic. Budeme se zabývat LU rozkladem s řádkovými permutacemi."
   ]
  },
  {
   "cell_type": "markdown",
   "metadata": {},
   "source": [
    "# LU rozklad s částečnou pivotizací\n",
    "\n",
    "Algoritmus LU rozkladu s částečnou pivotizací lze popsat např. následujícím pseudokódem.\n",
    "\n",
    "```\n",
    "U = A, L = I, P = I\n",
    "for k = 1 to m-1 do\n",
    "    Select i >= k maximizing abs(U(i, k))\n",
    "    Swap U(k, k:m) <--> U(i, k:m)\n",
    "    Swap L(k, 1:k-1) <--> L(i, 1:k-1)\n",
    "    Swap P(k, :) <--> P(i, :)\n",
    "    for j = k+1 to m do\n",
    "        L(j, k) = U(j, k)/U(k, k)\n",
    "        U(j, k:m) = U(j, k:m) - L(j, k)U(k, k:m)\n",
    "    end for\n",
    "end for\n",
    "```\n",
    "\n",
    "**Pozor**: značení `k:m` zde znamená sloupce od `k` po `m` *včetně*.\n",
    "\n",
    "Na základě tohoto pseudokódu doplňte chybějící části následují funkce."
   ]
  },
  {
   "cell_type": "code",
   "execution_count": 8,
   "metadata": {},
   "outputs": [],
   "source": [
    "# ÚKOL: Doplňte následující kód\n",
    "\n",
    "import numpy as np\n",
    "\n",
    "def lu_decomposition_p(A):\n",
    "    \"\"\"\n",
    "    Provádí LU dekompozici s částečnou pivotizací: PA = LU\n",
    "    Použití: L, U, P = lu_decomposition_p(A)\n",
    "    \"\"\"\n",
    "    A = np.array(A, dtype=float)\n",
    "    m, n = A.shape\n",
    "\n",
    "    L = np.eye(n, dtype=float)\n",
    "    U = A.copy()\n",
    "    P = np.eye(n, dtype=float)\n",
    "\n",
    "    # LU rozklad s částečnou pivotizací\n",
    "    for k in range(n-1):\n",
    "        # Najděme index prvku s největší absolutní hodnotou v aktuálním sloupci\n",
    "        i_max = np.argmax(np.abs(U[k:n, k])) + k\n",
    "\n",
    "        # Prohoďme řádky k a i_max\n",
    "        U[[k, i_max], k:n] = U[[i_max, k], k:n]\n",
    "        L[[k, i_max], :k] = L[[i_max, k], :k]\n",
    "        P[[k, i_max], :] = P[[i_max, k], :]\n",
    "\n",
    "        # Určeme multiplikátor a updatujme L a U\n",
    "        L[k+1:n, k] = U[k+1:n, k] / U[k, k]\n",
    "        for j in range(k+1, n):\n",
    "            U[j, k:n] -= L[j, k] * U[k, k:n]\n",
    "\n",
    "    return L, U, P"
   ]
  },
  {
   "cell_type": "code",
   "execution_count": 73,
   "metadata": {},
   "outputs": [],
   "source": [
    "# Vytvoříme náhodnou matici 5x5 a zavoláme vaši funkci\n",
    "A = np.random.rand(5, 5)\n",
    "L, U, P = lu_decomposition_p(A)"
   ]
  },
  {
   "cell_type": "code",
   "execution_count": null,
   "metadata": {},
   "outputs": [],
   "source": [
    "# Otestujeme, že funkce vrací správný rozklad\n",
    "np.set_printoptions(precision=3)\n",
    "LU = L@U\n",
    "print(LU)\n",
    "print(P@A)"
   ]
  },
  {
   "cell_type": "markdown",
   "metadata": {},
   "source": [
    "Známe-li rozklad matice $A$ ve tvaru\n",
    "$$\\mathsf{L}\\mathsf{U} = \\mathsf{P}\\mathsf{A},$$\n",
    "můžeme jej využít k řešení soustavy $\\mathsf{A}\\mathbf{x} = \\mathbf{b}$. Soustavu upravíme na tvar \n",
    "$$\\mathsf{P}\\mathsf{A}\\mathbf{x} = \\mathsf{P}\\mathbf{b}$$\n",
    "a dosadíme\n",
    "$$\\mathsf{L}\\mathsf{U}\\mathbf{x}=\\mathsf{P}\\mathbf{b}.$$\n",
    "\n",
    "V následující části využijte rozklad matice A a vaše metody `fsubst` a `bsubst` pro dopřednou a zpětnou substituci k vyřešení soustavy. "
   ]
  },
  {
   "cell_type": "code",
   "execution_count": 23,
   "metadata": {},
   "outputs": [],
   "source": [
    "# ÚKOL: Zkopírujte z minulého cvičení\n",
    "\n",
    "def fsubst(L, b):\n",
    "    m, n = np.shape(L)\n",
    "    x = np.zeros(n)\n",
    "\n",
    "    x[0] = b[0] / L[0, 0]\n",
    "\n",
    "    for i in range(1, m):\n",
    "        suma = 0\n",
    "        for j in range(0, i):\n",
    "            suma += L[i, j] * x[j]\n",
    "\n",
    "        x[i] = ( b[i] - suma ) / L[i, i]\n",
    "\n",
    "    return x"
   ]
  },
  {
   "cell_type": "code",
   "execution_count": 24,
   "metadata": {},
   "outputs": [],
   "source": [
    "# ÚKOL: Zkopírujte z minulého cvičení\n",
    "\n",
    "def bsubst(U, b):\n",
    "\n",
    "    m, n = np.shape(U)\n",
    "    x = np.zeros(n)\n",
    "\n",
    "    x[n-1] = b[n-1]/U[n-1, n-1]\n",
    "\n",
    "    for i in range(n-2, -1, -1):\n",
    "        suma = 0\n",
    "        for j in range(i+1, n):\n",
    "            suma += U[i, j] * x[j]\n",
    "\n",
    "        x[i] = (b[i] - suma) / U[i, i]\n",
    "\n",
    "    return x"
   ]
  },
  {
   "cell_type": "code",
   "execution_count": 25,
   "metadata": {},
   "outputs": [],
   "source": [
    "# ÚKOL: Vytvořte funkci random_system, která bude mít na vstupu dimenzi m matice A a vrátí náhodnou\n",
    "# matici o rozměrech m x m a náhodný vektor pravé strany b délky m\n",
    "\n",
    "def random_system(m):\n",
    "    A = np.random.rand(m, m)\n",
    "    b = np.random.rand(m)\n",
    "\n",
    "    return A, b"
   ]
  },
  {
   "cell_type": "code",
   "execution_count": 26,
   "metadata": {},
   "outputs": [],
   "source": [
    "# Použijeme vaši metodu k vytvoření náhodné soustavy Ax=b o 5 neznámých\n",
    "A, b = random_system(5)"
   ]
  },
  {
   "cell_type": "code",
   "execution_count": 27,
   "metadata": {},
   "outputs": [],
   "source": [
    "# Rozložíme matici A pomocí vaší implementace LU rozkladu s pivotizací\n",
    "L, U, P = lu_decomposition_p(A)"
   ]
  },
  {
   "cell_type": "code",
   "execution_count": 28,
   "metadata": {},
   "outputs": [],
   "source": [
    "# Permutujme vektor pravé strany\n",
    "pb = P@b\n",
    "\n",
    "# Vyřešme Ly = pb dopřednou substitucí\n",
    "y = fsubst(L, pb)\n",
    "\n",
    "# Vyřešme Ux = y zpětnou substitucí\n",
    "x = bsubst(U, y)"
   ]
  },
  {
   "cell_type": "code",
   "execution_count": null,
   "metadata": {},
   "outputs": [],
   "source": [
    "# Porovnáme vaše řešení s numpy výsledkem\n",
    "\n",
    "x_numpy = np.linalg.solve(A, b)\n",
    "print(x_numpy)\n",
    "print(x)"
   ]
  }
 ],
 "metadata": {
  "kernelspec": {
   "display_name": ".env",
   "language": "python",
   "name": "python3"
  },
  "language_info": {
   "codemirror_mode": {
    "name": "ipython",
    "version": 3
   },
   "file_extension": ".py",
   "mimetype": "text/x-python",
   "name": "python",
   "nbconvert_exporter": "python",
   "pygments_lexer": "ipython3",
   "version": "3.9.6"
  }
 },
 "nbformat": 4,
 "nbformat_minor": 2
}

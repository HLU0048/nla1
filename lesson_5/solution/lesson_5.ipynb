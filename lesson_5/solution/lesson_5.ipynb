{
 "cells": [
  {
   "attachments": {},
   "cell_type": "markdown",
   "metadata": {},
   "source": [
    "# Cvičení 5\n",
    "\n",
    "Tématem tohoto cvičení je iterační řešení soustav lineárních rovnic.\n",
    "\n",
    "## Jacobiho a Gaussova-Seidelova metoda\n",
    "\n",
    "### Příklad 1\n",
    "\n",
    "Připomeňme, že předpis pro $i$-tý prvek vektoru $\\mathbf{x}^{k+1}$ je v případě Jacobiho metody\n",
    "$$(\\mathbf{x}^{k+1})_i = \\frac{1}{a_{i,i}}\\left(b_i - \\sum_{j=1, j\\neq i}^n a_{i, j}(\\mathbf{x}^k)_j\\right)$$\n",
    "a v případě Gaussovy-Seidelovy metody\n",
    "$$(\\mathbf{x}^{k+1})_i = \\frac{1}{a_{i,i}}\\left(b_i - \\sum_{j=1}^{i-1} a_{i, j}(\\mathbf{x}^k)_j - \\sum_{j=i+1}^{n} a_{i, j}(\\mathbf{x}^k)_j\\right).$$\n",
    "\n",
    "\n",
    "Mějme soustavu rovnic $\\mathsf{A}\\mathbf{x}=\\mathbf{b}$\n",
    "\n",
    "$$\n",
    "\\mathsf{A}=\n",
    "\\begin{bmatrix}\n",
    "4 & 2 & 1 \\\\\n",
    "3 & 10 & 3 \\\\\n",
    "1 & 1 &5\n",
    "\\end{bmatrix},\\qquad\n",
    "\\mathbf{b} = \n",
    "\\begin{bmatrix}\n",
    "2 \\\\ 4 \\\\ 3\n",
    "\\end{bmatrix}\n",
    "$$\n",
    "\n",
    "1) Nalezněte přibližné řešení $\\mathbf{x}^3$ této soustavy pomocí tří iterací Jacobiho metody (ručně). Jako počáteční vektor volte\n",
    "$$\\mathbf{x}^0=\n",
    "\\begin{bmatrix}\n",
    "1\\\\1\\\\1\n",
    "\\end{bmatrix}\n",
    "$$\n",
    "\n",
    "2) Nalezněte přibližné řešení $\\mathbf{x}^3$ této soustavy pomocí tří iterací Gaussovy-Seidelovy metody (ručně). Počáteční vektor volte stejně.\n",
    "\n",
    "3) Určete přesné řešení $\\mathbf{x}$ pomocí NumPy (přes `numpy.linalg.solve`). Pomocí něj vypočtěte normy chyb a reziduí vámi nalezených řešení:\n",
    "\n",
    "$$\\|\\mathbf{e}_{\\mathrm{Jacobi}}\\| = \\|\\mathbf{x}_{\\mathrm{Jacobi}} - \\mathbf{x}\\|$$\n",
    "$$\\|\\mathbf{e}_{\\mathrm{Gauss-Seidel}}\\| = \\|\\mathbf{x}_{\\mathrm{Gauss-Seidel}} - \\mathbf{x}\\|$$\n",
    "$$\\|\\mathbf{r}_{\\mathrm{Jacobi}}\\| = \\|\\mathbf{b} - \\mathsf{A}\\mathbf{x}_{\\mathrm{Jacobi}}\\|$$\n",
    "$$\\|\\mathbf{r}_{\\mathrm{Gauss-Seidel}}\\| = \\|\\mathbf{b} - \\mathsf{A}\\mathbf{x}_{\\mathrm{Gauss-Seidel}}\\|$$"
   ]
  },
  {
   "attachments": {},
   "cell_type": "markdown",
   "metadata": {},
   "source": [
    "## Příklad 2\n",
    "\n",
    "Naprogramujte funkci `jacobi()`, která implementuje Jacobiho iterační metodu. Na vstupu bude matice `A`, vektor pravé strany `b`, počáteční odhad `x0`, relativní přesnost `tol` a maximální počet iterací `max_it`. Funkce vrátí vektor řešení, skutečný počet iterací a dosaženou přesnost. \n",
    "\n",
    "Ukončovací podmínku volte ve tvaru relativní změny rezidua:\n",
    "$$\\|\\frac{\\mathbf{r}^{k}}{\\mathbf{r}^{0}}\\| < \\varepsilon$$\n",
    "\n",
    "Vyjít můžete např. z následujícího pseudokódu:\n",
    "\n",
    "\n",
    "$$\n",
    "\\begin{array}{l}\n",
    "\\text{Input: matrix } A, \\text{ right-hand side vector } b, \\text{ initial approximation } x_0, \\text{ tolerance tol, maximum number of iterations max\\_it.}\\\\\n",
    "\\text{1. Set iteration counter } k = 0\\\\\n",
    "\\text{2. Calculate the initial residual norm } \\text{res\\_norm\\_0} = \\text{res\\_norm} = ||b-A*x_0||\\\\\n",
    "\\text{3. \\bf{while} } \\text{res\\_norm/res\\_norm\\_0 > tol and k < max\\_it \\bf{do}}\\\\\n",
    "\\quad\\begin{array}{l}\n",
    "\\text{1. Initialize a new solution vector } x_\\text{new}\\\\\n",
    "\\text{2. \\bf{for} } i = 1 \\text{ to } n \\text{ \\bf{do} } \\text{(where } n \\text{ is the number of rows in } A)\\\\\n",
    "\\qquad\\begin{array}{l}\n",
    "\\text{1. Calculate the sum of } A(i, j) * x_0(j) \\text{ for all } j \\neq i\\\\\n",
    "\\text{2. Update } x_\\text{new}(i) = (b(i) - \\text{sum}) / A(i, i)\\\\\n",
    "\\end{array}\\\\\n",
    "\\text{3. end for}\\\\\n",
    "\\text{4. Calculate the residual norm: } \\text{res\\_norm} = ||b-A*x_\\text{new}||\\\\\n",
    "\\text{5. Update the solution: } x_0 = x_\\text{new}\\\\\n",
    "\\text{6. Increment the iteration counter: } k = k + 1\\\\\n",
    "\\end{array}\\\\\n",
    "\\text{4. end while}\\\\\n",
    "\\text{5. The solution is stored in } x_\\text{new}\\\\\n",
    "\\end{array}\n",
    "$$\n"
   ]
  },
  {
   "cell_type": "code",
   "execution_count": 22,
   "metadata": {},
   "outputs": [],
   "source": [
    "import numpy as np\n",
    "\n",
    "def jacobi(A, b, x0, tol, max_it):\n",
    "\n",
    "    m, n = np.shape(A)\n",
    "\n",
    "    k = 0\n",
    "    r0 = np.linalg.norm(b - A@x0)\n",
    "    r = r0\n",
    "\n",
    "    x_prev = np.copy(x0)\n",
    "\n",
    "    while (r/r0 > tol) and k < max_it:\n",
    "        x_new = np.zeros_like(x0)\n",
    "        for i in range(n):\n",
    "            s = 0\n",
    "            for j in range(0, i):\n",
    "                s+=A[i, j]*x_prev[j, 0]\n",
    "            for j in range(i+1, n):\n",
    "                s+=A[i, j]*x_prev[j, 0]\n",
    "            x_new[i] = (b[i] - s)/A[i,i]\n",
    "        r = np.linalg.norm(b - A@x_new)\n",
    "        x_prev = np.copy(x_new)\n",
    "        k+=1\n",
    "    return x_new, k, r"
   ]
  },
  {
   "cell_type": "code",
   "execution_count": 29,
   "metadata": {},
   "outputs": [
    {
     "name": "stdout",
     "output_type": "stream",
     "text": [
      "[[ 0.01024627]\n",
      " [ 0.0347526 ]\n",
      " [-0.00052935]\n",
      " [ 0.00827881]]\n"
     ]
    }
   ],
   "source": [
    "A = np.array([[10, 2,  1,  1],\n",
    "     [1,  8,  2,  1],\n",
    "     [1,  1,  12, 3],\n",
    "     [1,  1,  2,  10]])\n",
    "b = np.random.rand(4,1)\n",
    "x0 = np.random.rand(4,1)\n",
    "x, k, r = jacobi(A, b, x0, 0.00001, 100)\n",
    "print(x)"
   ]
  },
  {
   "cell_type": "code",
   "execution_count": 30,
   "metadata": {},
   "outputs": [
    {
     "name": "stdout",
     "output_type": "stream",
     "text": [
      "[[5.53972335e-05]\n",
      " [5.12059388e-05]\n",
      " [6.56898246e-05]\n",
      " [5.36364817e-05]]\n"
     ]
    }
   ],
   "source": [
    "print(A@x - b)"
   ]
  },
  {
   "cell_type": "code",
   "execution_count": null,
   "metadata": {},
   "outputs": [],
   "source": []
  }
 ],
 "metadata": {
  "kernelspec": {
   "display_name": "Python 3",
   "language": "python",
   "name": "python3"
  },
  "language_info": {
   "codemirror_mode": {
    "name": "ipython",
    "version": 3
   },
   "file_extension": ".py",
   "mimetype": "text/x-python",
   "name": "python",
   "nbconvert_exporter": "python",
   "pygments_lexer": "ipython3",
   "version": "3.10.6"
  },
  "orig_nbformat": 4
 },
 "nbformat": 4,
 "nbformat_minor": 2
}
